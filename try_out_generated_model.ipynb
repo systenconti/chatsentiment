{
  "nbformat": 4,
  "nbformat_minor": 0,
  "metadata": {
    "colab": {
      "provenance": [],
      "authorship_tag": "ABX9TyNCKPa4q9oJrYopGt49ynLZ",
      "include_colab_link": true
    },
    "kernelspec": {
      "name": "python3",
      "display_name": "Python 3"
    },
    "language_info": {
      "name": "python"
    }
  },
  "cells": [
    {
      "cell_type": "markdown",
      "metadata": {
        "id": "view-in-github",
        "colab_type": "text"
      },
      "source": [
        "<a href=\"https://colab.research.google.com/github/systenconti/chatsentiment/blob/main/try_out_generated_model.ipynb\" target=\"_parent\"><img src=\"https://colab.research.google.com/assets/colab-badge.svg\" alt=\"Open In Colab\"/></a>"
      ]
    },
    {
      "cell_type": "code",
      "source": [
        "from google.colab import drive\n",
        "drive.mount('/content/drive')"
      ],
      "metadata": {
        "colab": {
          "base_uri": "https://localhost:8080/"
        },
        "id": "JkF5Nd9kxLBU",
        "outputId": "da556525-883d-4be6-d548-adc8f236a406"
      },
      "execution_count": 5,
      "outputs": [
        {
          "output_type": "stream",
          "name": "stdout",
          "text": [
            "Mounted at /content/drive\n"
          ]
        }
      ]
    },
    {
      "cell_type": "code",
      "source": [
        "import numpy as np"
      ],
      "metadata": {
        "id": "0v21OV3RymbY"
      },
      "execution_count": 8,
      "outputs": []
    },
    {
      "cell_type": "markdown",
      "source": [
        "## Load created model"
      ],
      "metadata": {
        "id": "sw_Xl3CGuwxb"
      }
    },
    {
      "cell_type": "code",
      "execution_count": 6,
      "metadata": {
        "id": "vjVdMaFlupyS"
      },
      "outputs": [],
      "source": [
        "import tensorflow as tf\n",
        "\n",
        "my_model = tf.keras.models.load_model('/content/drive/My Drive/my_first_model')"
      ]
    },
    {
      "cell_type": "markdown",
      "source": [],
      "metadata": {
        "id": "EheCVyWJuvvN"
      }
    },
    {
      "cell_type": "markdown",
      "source": [
        "## Check predictions"
      ],
      "metadata": {
        "id": "vyJexEYox6Sj"
      }
    },
    {
      "cell_type": "code",
      "source": [
        "input_texts = [\"I made chicken for dinner\", \"You are my love\", \"It's delicious\", \"That's totally unacceptable\", \"The weather is okay here\"]\n",
        "predictions = my_model.predict(input_texts)"
      ],
      "metadata": {
        "colab": {
          "base_uri": "https://localhost:8080/"
        },
        "id": "ODtO_qfax78H",
        "outputId": "8687fa3b-1595-4661-9032-87c1dff9649c"
      },
      "execution_count": 15,
      "outputs": [
        {
          "output_type": "stream",
          "name": "stdout",
          "text": [
            "1/1 [==============================] - 0s 131ms/step\n"
          ]
        }
      ]
    },
    {
      "cell_type": "code",
      "source": [
        "predicted_classes = np.argmax(predictions, axis=-1)\n",
        "\n",
        "label_map = {0: \"negative\", 1: \"neutral\", 2: \"positive\"}\n",
        "predicted_labels = [label_map[class_idx] for class_idx in predicted_classes]\n",
        "\n",
        "print(predicted_labels)"
      ],
      "metadata": {
        "colab": {
          "base_uri": "https://localhost:8080/"
        },
        "id": "uQGvteO_yq59",
        "outputId": "74f6768e-6591-4989-cd6b-481e21942a0b"
      },
      "execution_count": 16,
      "outputs": [
        {
          "output_type": "stream",
          "name": "stdout",
          "text": [
            "['positive', 'positive', 'positive', 'negative', 'neutral']\n"
          ]
        }
      ]
    }
  ]
}