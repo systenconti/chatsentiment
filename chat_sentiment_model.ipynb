{
  "cells": [
    {
      "cell_type": "markdown",
      "metadata": {
        "id": "WOw8yMd1VlnD"
      },
      "source": [
        "# Data Preprocessing Template"
      ]
    },
    {
      "cell_type": "markdown",
      "metadata": {
        "id": "NvUGC8QQV6bV"
      },
      "source": [
        "## Importing the libraries"
      ]
    },
    {
      "cell_type": "code",
      "execution_count": 1,
      "metadata": {
        "id": "wfFEXZC0WS-V"
      },
      "outputs": [],
      "source": [
        "import numpy as np\n",
        "import matplotlib.pyplot as plt\n",
        "import pandas as pd\n",
        "import tensorflow as tf"
      ]
    },
    {
      "cell_type": "markdown",
      "metadata": {
        "id": "EZnoDlQonj_A"
      },
      "source": [
        "## Encode categorical data"
      ]
    },
    {
      "cell_type": "code",
      "execution_count": 3,
      "metadata": {
        "colab": {
          "base_uri": "https://localhost:8080/"
        },
        "id": "SE-7kEeQnj_B",
        "outputId": "adc353a2-4bf3-4e6b-ae0e-990ebb760409"
      },
      "outputs": [
        {
          "output_type": "stream",
          "name": "stderr",
          "text": [
            "<ipython-input-3-950b03aecebb>:10: DeprecationWarning: In a future version, `df.iloc[:, i] = newvals` will attempt to set the values inplace instead of always setting a new array. To retain the old behavior, use either `df[df.columns[i]] = newvals` or, if columns are non-unique, `df.isetitem(i, newvals)`\n",
            "  dataset.iloc[:, -1] = y_encoded\n"
          ]
        }
      ],
      "source": [
        "dataset = pd.read_csv('/content/sample_data/chat_dataset.csv')\n",
        "y = dataset.iloc[:, -1].values\n",
        "X = dataset.iloc[:, :-1].values\n",
        "\n",
        "\n",
        "from sklearn.preprocessing import LabelEncoder\n",
        "le = LabelEncoder()\n",
        "y_encoded = le.fit_transform(y)\n",
        "\n",
        "dataset.iloc[:, -1] = y_encoded\n",
        "\n",
        "dataset.to_csv('chat_dataset_encoded.csv', index=False)\n"
      ]
    },
    {
      "cell_type": "markdown",
      "metadata": {
        "id": "XVKjBCrQnj_B"
      },
      "source": [
        "## Split csv's into training set, test set and validation set"
      ]
    },
    {
      "cell_type": "code",
      "execution_count": 4,
      "metadata": {
        "colab": {
          "base_uri": "https://localhost:8080/"
        },
        "id": "-bid_G7Ynj_B",
        "outputId": "b256c441-1cc1-41c4-dee6-8e89c5b8cf76"
      },
      "outputs": [
        {
          "output_type": "stream",
          "name": "stdout",
          "text": [
            "408 88 88\n"
          ]
        }
      ],
      "source": [
        "from sklearn.model_selection import train_test_split\n",
        "\n",
        "df = pd.read_csv('/content/chat_dataset_encoded.csv')\n",
        "\n",
        "train_df, temp_df = train_test_split(df, test_size=0.3, random_state=42)\n",
        "\n",
        "validation_df, test_df = train_test_split(temp_df, test_size=0.5, random_state=42)\n",
        "\n",
        "print(len(train_df), len(test_df), len(validation_df))\n",
        "\n",
        "train_df.to_csv('train_dataset.csv', index=False)\n",
        "validation_df.to_csv('validation_dataset.csv', index=False)\n",
        "test_df.to_csv('test_dataset.csv', index=False)"
      ]
    },
    {
      "cell_type": "markdown",
      "metadata": {
        "id": "fhYaZ-ENV_c5"
      },
      "source": [
        "## Importing the dataset"
      ]
    },
    {
      "cell_type": "code",
      "execution_count": 5,
      "metadata": {
        "colab": {
          "base_uri": "https://localhost:8080/"
        },
        "id": "aqHTg9bxWT_u",
        "outputId": "09228cdd-a13f-4c6f-83f7-e46931003983"
      },
      "outputs": [
        {
          "output_type": "stream",
          "name": "stderr",
          "text": [
            "WARNING:tensorflow:From /usr/local/lib/python3.10/dist-packages/tensorflow/python/data/experimental/ops/readers.py:573: ignore_errors (from tensorflow.python.data.experimental.ops.error_ops) is deprecated and will be removed in a future version.\n",
            "Instructions for updating:\n",
            "Use `tf.data.Dataset.ignore_errors` instead.\n"
          ]
        }
      ],
      "source": [
        "train_dataset = tf.data.experimental.make_csv_dataset(\n",
        "    '/content/train_dataset.csv',\n",
        "    batch_size=50,\n",
        "    label_name='sentiment',\n",
        "    na_value=\"?\",\n",
        "    num_epochs=1,\n",
        "    shuffle=True,\n",
        "    ignore_errors=True)\n",
        "\n",
        "validation_dataset = tf.data.experimental.make_csv_dataset(\n",
        "    '/content/validation_dataset.csv',\n",
        "    batch_size=10,\n",
        "    label_name='sentiment',\n",
        "    na_value=\"?\",\n",
        "    num_epochs=1,\n",
        "    ignore_errors=True)\n",
        "\n",
        "test_dataset = tf.data.experimental.make_csv_dataset(\n",
        "    '/content/test_dataset.csv',\n",
        "    batch_size=10,\n",
        "    label_name='sentiment',\n",
        "    na_value=\"?\",\n",
        "    num_epochs=1,\n",
        "    ignore_errors=True)\n"
      ]
    },
    {
      "cell_type": "markdown",
      "metadata": {
        "id": "EyFge3EPnj_B"
      },
      "source": [
        "## Construct Tensorflow Hub embedding model"
      ]
    },
    {
      "cell_type": "code",
      "execution_count": 6,
      "metadata": {
        "id": "NNSZVdPonj_B"
      },
      "outputs": [],
      "source": [
        "import tensorflow_hub as hub\n",
        "\n",
        "\n",
        "embedding = \"https://www.kaggle.com/models/google/nnlm/frameworks/TensorFlow2/variations/en-dim128-with-normalization/versions/1\"\n",
        "hub_layer = hub.KerasLayer(embedding, input_shape=[],\n",
        "                           dtype=tf.string, trainable=True)\n"
      ]
    },
    {
      "cell_type": "markdown",
      "source": [
        "## Construct model itself"
      ],
      "metadata": {
        "id": "XdxWakUPpMNn"
      }
    },
    {
      "cell_type": "code",
      "source": [
        "model = tf.keras.Sequential()\n",
        "model.add(hub_layer)\n",
        "model.add(tf.keras.layers.Dense(16, activation='relu'))\n",
        "model.add(tf.keras.layers.Dense(3, activation='softmax'))\n",
        "\n",
        "model.summary()"
      ],
      "metadata": {
        "id": "8lERbZ4cpRXC",
        "outputId": "75d86843-6f97-493c-83d1-539997c6faae",
        "colab": {
          "base_uri": "https://localhost:8080/"
        }
      },
      "execution_count": 7,
      "outputs": [
        {
          "output_type": "stream",
          "name": "stdout",
          "text": [
            "Model: \"sequential\"\n",
            "_________________________________________________________________\n",
            " Layer (type)                Output Shape              Param #   \n",
            "=================================================================\n",
            " keras_layer (KerasLayer)    (None, 128)               124642688 \n",
            "                                                                 \n",
            " dense (Dense)               (None, 16)                2064      \n",
            "                                                                 \n",
            " dense_1 (Dense)             (None, 3)                 51        \n",
            "                                                                 \n",
            "=================================================================\n",
            "Total params: 124644803 (475.48 MB)\n",
            "Trainable params: 124644803 (475.48 MB)\n",
            "Non-trainable params: 0 (0.00 Byte)\n",
            "_________________________________________________________________\n"
          ]
        }
      ]
    }
  ],
  "metadata": {
    "colab": {
      "name": "data_preprocessing_template.ipynb",
      "provenance": [],
      "toc_visible": true
    },
    "kernelspec": {
      "display_name": "Python 3",
      "name": "python3"
    },
    "language_info": {
      "codemirror_mode": {
        "name": "ipython",
        "version": 3
      },
      "file_extension": ".py",
      "mimetype": "text/x-python",
      "name": "python",
      "nbconvert_exporter": "python",
      "pygments_lexer": "ipython3",
      "version": "3.10.12"
    }
  },
  "nbformat": 4,
  "nbformat_minor": 0
}