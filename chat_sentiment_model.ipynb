{
  "cells": [
    {
      "cell_type": "code",
      "source": [
        "from google.colab import drive\n",
        "drive.mount('/content/drive')"
      ],
      "metadata": {
        "colab": {
          "base_uri": "https://localhost:8080/"
        },
        "id": "RFrB24fobGyb",
        "outputId": "2117f769-bd68-4cb2-cae6-d4b492eb237b"
      },
      "execution_count": 4,
      "outputs": [
        {
          "output_type": "stream",
          "name": "stdout",
          "text": [
            "Mounted at /content/drive\n"
          ]
        }
      ]
    },
    {
      "cell_type": "markdown",
      "metadata": {
        "id": "NvUGC8QQV6bV"
      },
      "source": [
        "## Importing the libraries"
      ]
    },
    {
      "cell_type": "code",
      "execution_count": 5,
      "metadata": {
        "id": "wfFEXZC0WS-V"
      },
      "outputs": [],
      "source": [
        "import numpy as np\n",
        "import matplotlib.pyplot as plt\n",
        "import pandas as pd\n",
        "import tensorflow as tf"
      ]
    },
    {
      "cell_type": "markdown",
      "metadata": {
        "id": "EZnoDlQonj_A"
      },
      "source": [
        "## Encode categorical data"
      ]
    },
    {
      "cell_type": "code",
      "execution_count": 6,
      "metadata": {
        "colab": {
          "base_uri": "https://localhost:8080/"
        },
        "id": "SE-7kEeQnj_B",
        "outputId": "54d7a566-c7d5-4ecc-8a67-70afeb60c310"
      },
      "outputs": [
        {
          "output_type": "stream",
          "name": "stderr",
          "text": [
            "<ipython-input-6-c5b6615c8be3>:10: DeprecationWarning: In a future version, `df.iloc[:, i] = newvals` will attempt to set the values inplace instead of always setting a new array. To retain the old behavior, use either `df[df.columns[i]] = newvals` or, if columns are non-unique, `df.isetitem(i, newvals)`\n",
            "  dataset.iloc[:, -1] = y_encoded\n"
          ]
        }
      ],
      "source": [
        "dataset = pd.read_csv('/content/drive/My Drive/chat_dataset.csv')\n",
        "y = dataset.iloc[:, -1].values\n",
        "X = dataset.iloc[:, :-1].values\n",
        "\n",
        "\n",
        "from sklearn.preprocessing import LabelEncoder\n",
        "le = LabelEncoder()\n",
        "y_encoded = le.fit_transform(y)\n",
        "\n",
        "dataset.iloc[:, -1] = y_encoded\n",
        "\n",
        "dataset.to_csv('/content/drive/My Drive/chat_dataset_encoded.csv', index=False)\n"
      ]
    },
    {
      "cell_type": "markdown",
      "metadata": {
        "id": "XVKjBCrQnj_B"
      },
      "source": [
        "## Split csv's into training set, test set and validation set"
      ]
    },
    {
      "cell_type": "code",
      "execution_count": 7,
      "metadata": {
        "colab": {
          "base_uri": "https://localhost:8080/"
        },
        "id": "-bid_G7Ynj_B",
        "outputId": "e29d36b3-f0e0-4ee4-9f28-1053a1c3b1ed"
      },
      "outputs": [
        {
          "output_type": "stream",
          "name": "stdout",
          "text": [
            "408 88 88\n"
          ]
        }
      ],
      "source": [
        "from sklearn.model_selection import train_test_split\n",
        "\n",
        "df = pd.read_csv('/content/drive/My Drive/chat_dataset_encoded.csv')\n",
        "\n",
        "train_df, temp_df = train_test_split(df, test_size=0.3, random_state=42)\n",
        "\n",
        "validation_df, test_df = train_test_split(temp_df, test_size=0.5, random_state=42)\n",
        "\n",
        "print(len(train_df), len(test_df), len(validation_df))\n",
        "\n",
        "train_df.to_csv('/content/drive/My Drive/train_dataset.csv', index=False)\n",
        "validation_df.to_csv('/content/drive/My Drive/validation_dataset.csv', index=False)\n",
        "test_df.to_csv('/content/drive/My Drive/test_dataset.csv', index=False)"
      ]
    },
    {
      "cell_type": "markdown",
      "metadata": {
        "id": "fhYaZ-ENV_c5"
      },
      "source": [
        "## Importing the dataset"
      ]
    },
    {
      "cell_type": "code",
      "execution_count": 25,
      "metadata": {
        "id": "aqHTg9bxWT_u"
      },
      "outputs": [],
      "source": [
        "train_dataset = tf.data.experimental.make_csv_dataset(\n",
        "    '/content/drive/My Drive/train_dataset.csv',\n",
        "    batch_size=50,\n",
        "    column_names = ['keras_layer_3_input', 'sentiment'],\n",
        "    label_name='sentiment',\n",
        "    na_value=\"?\",\n",
        "    num_epochs=1,\n",
        "    shuffle=True,\n",
        "    ignore_errors=True)\n",
        "\n",
        "validation_dataset = tf.data.experimental.make_csv_dataset(\n",
        "    '/content/drive/My Drive/validation_dataset.csv',\n",
        "    batch_size=10,\n",
        "    column_names = ['keras_layer_3_input', 'sentiment'],\n",
        "    label_name='sentiment',\n",
        "    na_value=\"?\",\n",
        "    num_epochs=1,\n",
        "    ignore_errors=True)\n",
        "\n",
        "test_dataset = tf.data.experimental.make_csv_dataset(\n",
        "    '/content/drive/My Drive/test_dataset.csv',\n",
        "    batch_size=10,\n",
        "    column_names = ['keras_layer_3_input', 'sentiment'],\n",
        "    label_name='sentiment',\n",
        "    na_value=\"?\",\n",
        "    num_epochs=1,\n",
        "    ignore_errors=True)\n",
        "\n"
      ]
    },
    {
      "cell_type": "markdown",
      "metadata": {
        "id": "EyFge3EPnj_B"
      },
      "source": [
        "## Construct Tensorflow Hub embedding model"
      ]
    },
    {
      "cell_type": "code",
      "execution_count": 26,
      "metadata": {
        "id": "NNSZVdPonj_B"
      },
      "outputs": [],
      "source": [
        "import tensorflow_hub as hub\n",
        "\n",
        "\n",
        "embedding = \"https://www.kaggle.com/models/google/nnlm/frameworks/TensorFlow2/variations/en-dim128-with-normalization/versions/1\"\n",
        "hub_layer = hub.KerasLayer(embedding, input_shape=[],\n",
        "                           dtype=tf.string, trainable=True)\n"
      ]
    },
    {
      "cell_type": "markdown",
      "source": [
        "## Construct model itself"
      ],
      "metadata": {
        "id": "XdxWakUPpMNn"
      }
    },
    {
      "cell_type": "code",
      "source": [
        "model = tf.keras.Sequential()\n",
        "model.add(hub_layer)\n",
        "model.add(tf.keras.layers.Dense(16, activation='relu'))\n",
        "model.add(tf.keras.layers.Dense(3, activation='softmax'))\n",
        "\n",
        "model.summary()"
      ],
      "metadata": {
        "id": "8lERbZ4cpRXC",
        "outputId": "92c5df13-2a69-45ab-cfb4-572bf1e06e8a",
        "colab": {
          "base_uri": "https://localhost:8080/"
        }
      },
      "execution_count": 27,
      "outputs": [
        {
          "output_type": "stream",
          "name": "stdout",
          "text": [
            "Model: \"sequential_4\"\n",
            "_________________________________________________________________\n",
            " Layer (type)                Output Shape              Param #   \n",
            "=================================================================\n",
            " keras_layer_3 (KerasLayer)  (None, 128)               124642688 \n",
            "                                                                 \n",
            " dense_8 (Dense)             (None, 16)                2064      \n",
            "                                                                 \n",
            " dense_9 (Dense)             (None, 3)                 51        \n",
            "                                                                 \n",
            "=================================================================\n",
            "Total params: 124644803 (475.48 MB)\n",
            "Trainable params: 124644803 (475.48 MB)\n",
            "Non-trainable params: 0 (0.00 Byte)\n",
            "_________________________________________________________________\n"
          ]
        }
      ]
    },
    {
      "cell_type": "markdown",
      "source": [
        "## Compile the model"
      ],
      "metadata": {
        "id": "jo8zsjJHaTLx"
      }
    },
    {
      "cell_type": "code",
      "source": [
        "model.compile(optimizer='adam',\n",
        "              loss=tf.keras.losses.SparseCategoricalCrossentropy(from_logits=False),\n",
        "              metrics=['accuracy'])"
      ],
      "metadata": {
        "id": "WjLtIRwEaVd5"
      },
      "execution_count": 28,
      "outputs": []
    },
    {
      "cell_type": "markdown",
      "source": [
        "## Train the model"
      ],
      "metadata": {
        "id": "2jNKgGFKchHx"
      }
    },
    {
      "cell_type": "code",
      "source": [
        "history = model.fit(train_dataset,\n",
        "                    epochs=10,\n",
        "                    validation_data=validation_dataset)"
      ],
      "metadata": {
        "colab": {
          "base_uri": "https://localhost:8080/"
        },
        "id": "E1QW-Ji8cuw3",
        "outputId": "baf7e660-065a-4954-9487-46a8b2128aff"
      },
      "execution_count": 29,
      "outputs": [
        {
          "output_type": "stream",
          "name": "stdout",
          "text": [
            "Epoch 1/10\n",
            "9/9 [==============================] - 53s 6s/step - loss: 1.0860 - accuracy: 0.3799 - val_loss: 1.0744 - val_accuracy: 0.5000\n",
            "Epoch 2/10\n",
            "9/9 [==============================] - 36s 4s/step - loss: 1.0148 - accuracy: 0.5760 - val_loss: 1.0214 - val_accuracy: 0.5114\n",
            "Epoch 3/10\n",
            "9/9 [==============================] - 36s 4s/step - loss: 0.9505 - accuracy: 0.6250 - val_loss: 0.9655 - val_accuracy: 0.5795\n",
            "Epoch 4/10\n",
            "9/9 [==============================] - 37s 4s/step - loss: 0.8807 - accuracy: 0.7132 - val_loss: 0.9089 - val_accuracy: 0.6705\n",
            "Epoch 5/10\n",
            "9/9 [==============================] - 37s 4s/step - loss: 0.8035 - accuracy: 0.7892 - val_loss: 0.8488 - val_accuracy: 0.7273\n",
            "Epoch 6/10\n",
            "9/9 [==============================] - 43s 5s/step - loss: 0.7235 - accuracy: 0.8309 - val_loss: 0.7870 - val_accuracy: 0.7045\n",
            "Epoch 7/10\n",
            "9/9 [==============================] - 37s 4s/step - loss: 0.6409 - accuracy: 0.8554 - val_loss: 0.7247 - val_accuracy: 0.7273\n",
            "Epoch 8/10\n",
            "9/9 [==============================] - 37s 4s/step - loss: 0.5574 - accuracy: 0.9069 - val_loss: 0.6617 - val_accuracy: 0.7500\n",
            "Epoch 9/10\n",
            "9/9 [==============================] - 35s 4s/step - loss: 0.4738 - accuracy: 0.9387 - val_loss: 0.6005 - val_accuracy: 0.8182\n",
            "Epoch 10/10\n",
            "9/9 [==============================] - 36s 4s/step - loss: 0.3953 - accuracy: 0.9657 - val_loss: 0.5439 - val_accuracy: 0.8182\n"
          ]
        }
      ]
    },
    {
      "cell_type": "markdown",
      "source": [
        "## Evaluate the model"
      ],
      "metadata": {
        "id": "-y7-nnzjlZ8K"
      }
    },
    {
      "cell_type": "code",
      "source": [
        "results = model.evaluate(test_dataset, verbose=2)\n",
        "\n",
        "for name, value in zip(model.metrics_names, results):\n",
        "  print(\"%s: %.3f\" % (name, value))"
      ],
      "metadata": {
        "colab": {
          "base_uri": "https://localhost:8080/"
        },
        "id": "0z41ewIyle-y",
        "outputId": "b766fd1d-4bb5-44f4-80b5-2ce03a942be1"
      },
      "execution_count": 30,
      "outputs": [
        {
          "output_type": "stream",
          "name": "stdout",
          "text": [
            "9/9 - 5s - loss: 0.5798 - accuracy: 0.8182 - 5s/epoch - 523ms/step\n",
            "loss: 0.580\n",
            "accuracy: 0.818\n"
          ]
        }
      ]
    },
    {
      "cell_type": "markdown",
      "source": [
        "## Save the model"
      ],
      "metadata": {
        "id": "6q_3IoM_mFl1"
      }
    },
    {
      "cell_type": "code",
      "source": [
        "model.save('/content/drive/My Drive/my_first_model')"
      ],
      "metadata": {
        "id": "w280CAyxmHKv"
      },
      "execution_count": 32,
      "outputs": []
    }
  ],
  "metadata": {
    "colab": {
      "name": "data_preprocessing_template.ipynb",
      "provenance": []
    },
    "kernelspec": {
      "display_name": "Python 3",
      "name": "python3"
    },
    "language_info": {
      "codemirror_mode": {
        "name": "ipython",
        "version": 3
      },
      "file_extension": ".py",
      "mimetype": "text/x-python",
      "name": "python",
      "nbconvert_exporter": "python",
      "pygments_lexer": "ipython3",
      "version": "3.10.12"
    }
  },
  "nbformat": 4,
  "nbformat_minor": 0
}